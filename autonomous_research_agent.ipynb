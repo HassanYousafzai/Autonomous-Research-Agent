{
  "nbformat": 4,
  "nbformat_minor": 0,
  "metadata": {
    "colab": {
      "provenance": []
    },
    "kernelspec": {
      "name": "python3",
      "display_name": "Python 3"
    },
    "language_info": {
      "name": "python"
    }
  },
  "cells": [
    {
      "cell_type": "markdown",
      "source": [
        "# Autonomous Research Agent 🤖\n",
        "\n",
        "A demonstration of core Agentic AI principles: **Tool Use** and **Multi-step Reasoning**.\n",
        "\n",
        "This agent autonomously researches a user-provided topic by:\n",
        "1.  Using the **Tavily Search API** (Tool Use) to find recent, relevant information.\n",
        "2.  Synthesizing the search results with an **OpenAI Assistant** (Multi-step Reasoning).\n",
        "3.  Generating a structured, professional report.\n",
        "\n",
        "This project mirrors the capabilities of AI employees built by companies."
      ],
      "metadata": {
        "id": "4LxxaHXMlYbM"
      }
    },
    {
      "cell_type": "code",
      "source": [
        "# Install required packages. Restart the runtime if prompted.\n",
        "!pip install openai tavily-python\n",
        "!pip install google-generativeai\n",
        "# Import the libraries\n",
        "from openai import OpenAI\n",
        "from tavily import TavilyClient\n",
        "import os\n",
        "from textwrap import fill"
      ],
      "metadata": {
        "colab": {
          "base_uri": "https://localhost:8080/"
        },
        "id": "eKdNxl9fmIXQ",
        "outputId": "e60b84cb-a98a-41c3-bd5c-128fbe423028"
      },
      "execution_count": null,
      "outputs": [
        {
          "output_type": "stream",
          "name": "stdout",
          "text": [
            "Requirement already satisfied: openai in /usr/local/lib/python3.12/dist-packages (1.107.0)\n",
            "Requirement already satisfied: tavily-python in /usr/local/lib/python3.12/dist-packages (0.7.12)\n",
            "Requirement already satisfied: anyio<5,>=3.5.0 in /usr/local/lib/python3.12/dist-packages (from openai) (4.10.0)\n",
            "Requirement already satisfied: distro<2,>=1.7.0 in /usr/local/lib/python3.12/dist-packages (from openai) (1.9.0)\n",
            "Requirement already satisfied: httpx<1,>=0.23.0 in /usr/local/lib/python3.12/dist-packages (from openai) (0.28.1)\n",
            "Requirement already satisfied: jiter<1,>=0.4.0 in /usr/local/lib/python3.12/dist-packages (from openai) (0.10.0)\n",
            "Requirement already satisfied: pydantic<3,>=1.9.0 in /usr/local/lib/python3.12/dist-packages (from openai) (2.11.7)\n",
            "Requirement already satisfied: sniffio in /usr/local/lib/python3.12/dist-packages (from openai) (1.3.1)\n",
            "Requirement already satisfied: tqdm>4 in /usr/local/lib/python3.12/dist-packages (from openai) (4.67.1)\n",
            "Requirement already satisfied: typing-extensions<5,>=4.11 in /usr/local/lib/python3.12/dist-packages (from openai) (4.15.0)\n",
            "Requirement already satisfied: requests in /usr/local/lib/python3.12/dist-packages (from tavily-python) (2.32.4)\n",
            "Requirement already satisfied: tiktoken>=0.5.1 in /usr/local/lib/python3.12/dist-packages (from tavily-python) (0.11.0)\n",
            "Requirement already satisfied: idna>=2.8 in /usr/local/lib/python3.12/dist-packages (from anyio<5,>=3.5.0->openai) (3.10)\n",
            "Requirement already satisfied: certifi in /usr/local/lib/python3.12/dist-packages (from httpx<1,>=0.23.0->openai) (2025.8.3)\n",
            "Requirement already satisfied: httpcore==1.* in /usr/local/lib/python3.12/dist-packages (from httpx<1,>=0.23.0->openai) (1.0.9)\n",
            "Requirement already satisfied: h11>=0.16 in /usr/local/lib/python3.12/dist-packages (from httpcore==1.*->httpx<1,>=0.23.0->openai) (0.16.0)\n",
            "Requirement already satisfied: annotated-types>=0.6.0 in /usr/local/lib/python3.12/dist-packages (from pydantic<3,>=1.9.0->openai) (0.7.0)\n",
            "Requirement already satisfied: pydantic-core==2.33.2 in /usr/local/lib/python3.12/dist-packages (from pydantic<3,>=1.9.0->openai) (2.33.2)\n",
            "Requirement already satisfied: typing-inspection>=0.4.0 in /usr/local/lib/python3.12/dist-packages (from pydantic<3,>=1.9.0->openai) (0.4.1)\n",
            "Requirement already satisfied: regex>=2022.1.18 in /usr/local/lib/python3.12/dist-packages (from tiktoken>=0.5.1->tavily-python) (2024.11.6)\n",
            "Requirement already satisfied: charset_normalizer<4,>=2 in /usr/local/lib/python3.12/dist-packages (from requests->tavily-python) (3.4.3)\n",
            "Requirement already satisfied: urllib3<3,>=1.21.1 in /usr/local/lib/python3.12/dist-packages (from requests->tavily-python) (2.5.0)\n",
            "Requirement already satisfied: google-generativeai in /usr/local/lib/python3.12/dist-packages (0.8.5)\n",
            "Requirement already satisfied: google-ai-generativelanguage==0.6.15 in /usr/local/lib/python3.12/dist-packages (from google-generativeai) (0.6.15)\n",
            "Requirement already satisfied: google-api-core in /usr/local/lib/python3.12/dist-packages (from google-generativeai) (2.25.1)\n",
            "Requirement already satisfied: google-api-python-client in /usr/local/lib/python3.12/dist-packages (from google-generativeai) (2.181.0)\n",
            "Requirement already satisfied: google-auth>=2.15.0 in /usr/local/lib/python3.12/dist-packages (from google-generativeai) (2.38.0)\n",
            "Requirement already satisfied: protobuf in /usr/local/lib/python3.12/dist-packages (from google-generativeai) (5.29.5)\n",
            "Requirement already satisfied: pydantic in /usr/local/lib/python3.12/dist-packages (from google-generativeai) (2.11.7)\n",
            "Requirement already satisfied: tqdm in /usr/local/lib/python3.12/dist-packages (from google-generativeai) (4.67.1)\n",
            "Requirement already satisfied: typing-extensions in /usr/local/lib/python3.12/dist-packages (from google-generativeai) (4.15.0)\n",
            "Requirement already satisfied: proto-plus<2.0.0dev,>=1.22.3 in /usr/local/lib/python3.12/dist-packages (from google-ai-generativelanguage==0.6.15->google-generativeai) (1.26.1)\n",
            "Requirement already satisfied: googleapis-common-protos<2.0.0,>=1.56.2 in /usr/local/lib/python3.12/dist-packages (from google-api-core->google-generativeai) (1.70.0)\n",
            "Requirement already satisfied: requests<3.0.0,>=2.18.0 in /usr/local/lib/python3.12/dist-packages (from google-api-core->google-generativeai) (2.32.4)\n",
            "Requirement already satisfied: cachetools<6.0,>=2.0.0 in /usr/local/lib/python3.12/dist-packages (from google-auth>=2.15.0->google-generativeai) (5.5.2)\n",
            "Requirement already satisfied: pyasn1-modules>=0.2.1 in /usr/local/lib/python3.12/dist-packages (from google-auth>=2.15.0->google-generativeai) (0.4.2)\n",
            "Requirement already satisfied: rsa<5,>=3.1.4 in /usr/local/lib/python3.12/dist-packages (from google-auth>=2.15.0->google-generativeai) (4.9.1)\n",
            "Requirement already satisfied: httplib2<1.0.0,>=0.19.0 in /usr/local/lib/python3.12/dist-packages (from google-api-python-client->google-generativeai) (0.30.0)\n",
            "Requirement already satisfied: google-auth-httplib2<1.0.0,>=0.2.0 in /usr/local/lib/python3.12/dist-packages (from google-api-python-client->google-generativeai) (0.2.0)\n",
            "Requirement already satisfied: uritemplate<5,>=3.0.1 in /usr/local/lib/python3.12/dist-packages (from google-api-python-client->google-generativeai) (4.2.0)\n",
            "Requirement already satisfied: annotated-types>=0.6.0 in /usr/local/lib/python3.12/dist-packages (from pydantic->google-generativeai) (0.7.0)\n",
            "Requirement already satisfied: pydantic-core==2.33.2 in /usr/local/lib/python3.12/dist-packages (from pydantic->google-generativeai) (2.33.2)\n",
            "Requirement already satisfied: typing-inspection>=0.4.0 in /usr/local/lib/python3.12/dist-packages (from pydantic->google-generativeai) (0.4.1)\n",
            "Requirement already satisfied: grpcio<2.0.0,>=1.33.2 in /usr/local/lib/python3.12/dist-packages (from google-api-core[grpc]!=2.0.*,!=2.1.*,!=2.10.*,!=2.2.*,!=2.3.*,!=2.4.*,!=2.5.*,!=2.6.*,!=2.7.*,!=2.8.*,!=2.9.*,<3.0.0dev,>=1.34.1->google-ai-generativelanguage==0.6.15->google-generativeai) (1.74.0)\n",
            "Requirement already satisfied: grpcio-status<2.0.0,>=1.33.2 in /usr/local/lib/python3.12/dist-packages (from google-api-core[grpc]!=2.0.*,!=2.1.*,!=2.10.*,!=2.2.*,!=2.3.*,!=2.4.*,!=2.5.*,!=2.6.*,!=2.7.*,!=2.8.*,!=2.9.*,<3.0.0dev,>=1.34.1->google-ai-generativelanguage==0.6.15->google-generativeai) (1.71.2)\n",
            "Requirement already satisfied: pyparsing<4,>=3.0.4 in /usr/local/lib/python3.12/dist-packages (from httplib2<1.0.0,>=0.19.0->google-api-python-client->google-generativeai) (3.2.3)\n",
            "Requirement already satisfied: pyasn1<0.7.0,>=0.6.1 in /usr/local/lib/python3.12/dist-packages (from pyasn1-modules>=0.2.1->google-auth>=2.15.0->google-generativeai) (0.6.1)\n",
            "Requirement already satisfied: charset_normalizer<4,>=2 in /usr/local/lib/python3.12/dist-packages (from requests<3.0.0,>=2.18.0->google-api-core->google-generativeai) (3.4.3)\n",
            "Requirement already satisfied: idna<4,>=2.5 in /usr/local/lib/python3.12/dist-packages (from requests<3.0.0,>=2.18.0->google-api-core->google-generativeai) (3.10)\n",
            "Requirement already satisfied: urllib3<3,>=1.21.1 in /usr/local/lib/python3.12/dist-packages (from requests<3.0.0,>=2.18.0->google-api-core->google-generativeai) (2.5.0)\n",
            "Requirement already satisfied: certifi>=2017.4.17 in /usr/local/lib/python3.12/dist-packages (from requests<3.0.0,>=2.18.0->google-api-core->google-generativeai) (2025.8.3)\n"
          ]
        }
      ]
    },
    {
      "cell_type": "code",
      "source": [
        "# @title Enter your API Keys (Updated for Gemini)\n",
        "from google.colab import userdata\n",
        "import google.generativeai as genai\n",
        "\n",
        "# Read the keys from secrets. We only need Tavily now.\n",
        "tavily_api_key = userdata.get('TAVILY_API_KEY')\n",
        "google_api_key = userdata.get('GEMINI_API_KEY') # You'll add this new secret\n",
        "\n",
        "# Initialize the clients\n",
        "tavily_client = TavilyClient(api_key=tavily_api_key)\n",
        "genai.configure(api_key=google_api_key)\n",
        "\n",
        "# Initialize the Gemini model\n",
        "model = genai.GenerativeModel('gemini-1.5-flash') # Fast and good for this task\n",
        "\n",
        "print(\"API clients initialized successfully!\")"
      ],
      "metadata": {
        "colab": {
          "base_uri": "https://localhost:8080/"
        },
        "id": "A1e2j2Fmm3p8",
        "outputId": "18770c68-f5d5-4b67-c9e2-eb8a7d24f6b0"
      },
      "execution_count": null,
      "outputs": [
        {
          "output_type": "stream",
          "name": "stdout",
          "text": [
            "API clients initialized successfully!\n"
          ]
        }
      ]
    },
    {
      "cell_type": "code",
      "source": [
        "def research_topic(topic, max_results=5):\n",
        "  \"\"\"\n",
        "  An AI agent function that uses the Tavily API to perform web search.\n",
        "\n",
        "  Args:\n",
        "    topic (str): The topic to research.\n",
        "    max_results (int): Number of search results to return.\n",
        "\n",
        "  Returns:\n",
        "    str: A concatenated string of all the search results content.\n",
        "  \"\"\"\n",
        "  print(f\"🔍 Researching: '{topic}'...\")\n",
        "  try:\n",
        "    # Perform the search using Tavily's `search` method\n",
        "    search_results = tavily_client.search(query=topic, max_results=max_results, include_answer=True)\n",
        "    # Check if we have results\n",
        "    if not search_results['results']:\n",
        "      return \"No relevant information found in web search. Please try a different query.\"\n",
        "\n",
        "    # Combine the content of all results into a single context string\n",
        "    context = \"\\n\\n\".join([f\"[Source {i+1}: {result['url']}]\\n{result['content']}\" for i, result in enumerate(search_results['results'])])\n",
        "\n",
        "    print(f\"✅ Found {len(search_results['results'])} sources.\")\n",
        "    return context\n",
        "\n",
        "  except Exception as e:\n",
        "    return f\"An error occurred during research: {str(e)}\""
      ],
      "metadata": {
        "id": "f2fZts6fpmAm"
      },
      "execution_count": null,
      "outputs": []
    },
    {
      "cell_type": "code",
      "source": [
        "def generate_report(topic, context):\n",
        "  \"\"\"\n",
        "  An AI agent function that uses Google Gemini to synthesize research into a report.\n",
        "  \"\"\"\n",
        "  print(\"🧠 Synthesizing research into a report using Gemini...\")\n",
        "\n",
        "  # Create the prompt for Gemini\n",
        "  prompt = f\"\"\"You are an expert researcher and technical writer. Your task is to synthesize the provided research context into a well-structured, comprehensive, and insightful report. Write in a professional tone. Include key findings, trends, and potential implications. Do not make up information outside of the provided context.\n",
        "\n",
        "  Please write a detailed report on the following topic:\n",
        "  **{topic}**\n",
        "\n",
        "  Here is the context gathered from a web search:\n",
        "\n",
        "  {context}\n",
        "  \"\"\"\n",
        "\n",
        "  try:\n",
        "    # Generate the content\n",
        "    response = model.generate_content(prompt)\n",
        "    report_content = response.text\n",
        "    print(\"✅ Report generated!\")\n",
        "    return report_content\n",
        "  except Exception as e:\n",
        "    return f\"An error occurred during report generation: {str(e)}\""
      ],
      "metadata": {
        "id": "Zc0FF6MnqqQj"
      },
      "execution_count": null,
      "outputs": []
    },
    {
      "cell_type": "code",
      "source": [
        "# @title Run the Autonomous Research Agent\n",
        "\n",
        "# 1. Define your research topic\n",
        "topic = \"Latest advancements in solid-state batteries for electric vehicles\" # @param {type:\"string\"}\n",
        "\n",
        "# 2. Run the research function (Tool Use)\n",
        "print(\"=\" * 50)\n",
        "print(\"🤖 Autonomous Research Agent Starting...\")\n",
        "print(\"=\" * 50)\n",
        "research_context = research_topic(topic, max_results=5)\n",
        "\n",
        "# 3. Generate the final report (Reasoning)\n",
        "final_report = generate_report(topic, research_context)\n",
        "\n",
        "# 4. Display and Save the results\n",
        "print(\"=\" * 50)\n",
        "print(\"📄 FINAL REPORT\")\n",
        "print(\"=\" * 50)\n",
        "print(final_report)\n",
        "\n",
        "# Optional: Save to a file in Colab's runtime\n",
        "filename = f\"Report_on_{topic.replace(' ', '_')}.txt\"\n",
        "with open(filename, 'w') as f:\n",
        "    f.write(final_report)\n",
        "print(\"\\n💾 Report also saved to:\", filename)"
      ],
      "metadata": {
        "colab": {
          "base_uri": "https://localhost:8080/",
          "height": 870
        },
        "id": "A-JqDcO2rAF1",
        "outputId": "634251d4-9d4a-48a1-fc78-289e6296a276"
      },
      "execution_count": null,
      "outputs": [
        {
          "output_type": "stream",
          "name": "stdout",
          "text": [
            "==================================================\n",
            "🤖 Autonomous Research Agent Starting...\n",
            "==================================================\n",
            "🔍 Researching: 'Latest advancements in solid-state batteries for electric vehicles'...\n",
            "✅ Found 5 sources.\n",
            "🧠 Synthesizing research into a report using Gemini...\n",
            "✅ Report generated!\n",
            "==================================================\n",
            "📄 FINAL REPORT\n",
            "==================================================\n",
            "## Report: Latest Advancements in Solid-State Batteries for Electric Vehicles\n",
            "\n",
            "**1. Introduction:**\n",
            "\n",
            "Solid-state batteries (SSBs) represent a significant advancement in energy storage technology, offering the potential to revolutionize the electric vehicle (EV) market.  This report synthesizes recent findings regarding advancements in SSB technology for EVs, focusing on key materials, development timelines, and potential implications.\n",
            "\n",
            "**2. Key Material Advancements:**\n",
            "\n",
            "Research and development efforts are actively exploring various solid-state electrolytes.  Current focus includes three primary material categories: sulfide, oxide, and polymer-based electrolytes (Source 3).  Each material presents unique advantages and challenges regarding ionic conductivity, stability, and manufacturing feasibility.  While specific details on the performance characteristics of each material type are not provided in the source material, their concurrent investigation highlights the ongoing search for optimal performance and cost-effectiveness.\n",
            "\n",
            "**3.  Development and Production Timelines:**\n",
            "\n",
            "Significant progress has been made in SSB development over the past decade (Source 2).  Major automotive manufacturers are actively investing in this technology, with notable examples such as Toyota's ambitious timeline targeting SSB production for EVs between 2027 and 2028 (Source 1).  Toyota's commitment signifies a growing confidence in the technology's maturation and readiness for large-scale manufacturing.  The specific advancements leading to this timeline are not detailed in the source material.\n",
            "\n",
            "**4.  Performance and Future Trends:**\n",
            "\n",
            "The anticipated next generation of EV batteries includes solid-state technology, highlighting its importance in improving overall performance (Source 4).  These batteries are expected to deliver extended ranges and potentially improved safety compared to current lithium-ion battery technology.  Furthermore, the integration of sodium-ion chemistry and advanced recycling technologies suggests future developments will focus on cost reduction and sustainability (Source 4). A comprehensive review of the latest advancements in all-solid-state lithium-based batteries is available (Source 5), though the specific findings of this review are not detailed within the provided source material.\n",
            "\n",
            "**5.  Potential Implications:**\n",
            "\n",
            "The successful implementation of SSBs in EVs could have several significant implications:\n",
            "\n",
            "* **Increased Energy Density:** Leading to extended driving ranges on a single charge, potentially alleviating range anxiety.\n",
            "* **Improved Safety:** Solid-state electrolytes are generally considered less flammable than liquid electrolytes, enhancing the overall safety of EV batteries.\n",
            "* **Faster Charging:**  While not explicitly mentioned in the sources, the potential for faster charging is a frequently cited benefit of SSB technology.\n",
            "* **Enhanced Battery Life:**  The expectation of longer lifespan could reduce the need for frequent battery replacements, decreasing lifecycle costs.\n",
            "\n",
            "\n",
            "**6.  Limitations and Future Research:**\n",
            "\n",
            "The provided sources lack detailed information regarding the specific challenges still facing SSB technology.  Further research is needed to fully assess and address limitations related to manufacturing scalability, cost-effectiveness, and long-term durability under various operating conditions.  The comprehensive review mentioned (Source 5) would provide valuable insights into these areas.\n",
            "\n",
            "**7. Conclusion:**\n",
            "\n",
            "Solid-state battery technology is poised to play a crucial role in the future of electric vehicles.  Ongoing research and development efforts, coupled with significant investment from major automotive manufacturers, suggest that widespread adoption is approaching. While specific details on performance metrics and technical hurdles remain limited in the reviewed sources, the direction of the field is clearly towards the integration of SSBs into commercially viable EV products in the coming years.  Access to the full texts of Sources 2 and 5 would provide a far more complete picture of current research advancements and associated challenges.\n",
            "\n",
            "\n",
            "💾 Report also saved to: Report_on_Latest_advancements_in_solid-state_batteries_for_electric_vehicles.txt\n"
          ]
        }
      ]
    },
    {
      "cell_type": "markdown",
      "source": [
        "## Conclusion & Lessons Learned\n",
        "\n",
        "This project successfully demonstrates two core principles of Agentic AI:\n",
        "*   **Tool Use:** Integrating and executing calls to the Tavily Search API.\n",
        "*   **Multi-step Reasoning:** Orchestrating a sequential workflow (Research -> Synthesis -> Report Generation).\n",
        "\n",
        "**Key Technical Challenges Overcome:**\n",
        "1.  **Model Compatibility:** Adapted from OpenAI's `gpt-4-turbo` to Google's `gemini-1.5-flash` to resolve API access issues.\n",
        "2.  **Error Handling:** Implemented basic try/except blocks to gracefully handle potential API errors.\n",
        "3.  **Context Management:** Successfully piped large volumes of text from the search API into the LLM context window for synthesis.\n",
        "\n",
        "This architecture is a foundation for building more complex agents capable of even more autonomous task execution."
      ],
      "metadata": {
        "id": "O3qqrIEiwYRP"
      }
    },
    {
      "cell_type": "code",
      "source": [],
      "metadata": {
        "id": "cooXRUPQsNWS"
      },
      "execution_count": null,
      "outputs": []
    }
  ]
}